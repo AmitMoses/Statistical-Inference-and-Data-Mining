{
  "nbformat": 4,
  "nbformat_minor": 0,
  "metadata": {
    "colab": {
      "name": "Assigment1 - Ex2.ipynb",
      "provenance": []
    },
    "kernelspec": {
      "name": "python3",
      "display_name": "Python 3"
    },
    "language_info": {
      "name": "python"
    }
  },
  "cells": [
    {
      "cell_type": "markdown",
      "metadata": {
        "id": "TqqSelwOTPWG"
      },
      "source": [
        "# 2.  Generate 50 points (X,Y) according to (1)\n",
        "\n"
      ]
    },
    {
      "cell_type": "code",
      "metadata": {
        "colab": {
          "base_uri": "https://localhost:8080/",
          "height": 313
        },
        "id": "ktdivqqgC1Xn",
        "outputId": "5ee71778-c218-4550-b792-d7151af1ac18"
      },
      "source": [
        "import numpy as np\n",
        "import matplotlib.pyplot as plt\n",
        "\n",
        "\n",
        "def dataGeneration(num_of_points, print_flag = True):\n",
        "  '''\n",
        "  Generate \"num_of_points\" sample  of Y = X^2\n",
        "\n",
        "  input:  - num_of_points: numper of samples\n",
        "          - print_flag:  can be True of False, if True thr function will print \n",
        "            the samples\n",
        "  output: - X: uniformly distributed samples over [-5, 5]\n",
        "          - Y: Y = X^2\n",
        "          - cov: empirical correlation \n",
        "  '''\n",
        "  # Generate X & Y \n",
        "  N = num_of_points\n",
        "  X = np.random.uniform(-5, 5, N)\n",
        "  X = X.reshape(-1,1)\n",
        "  Y = X**2\n",
        "  # Calculate population correlation a.k.a covariance \n",
        "  cov = np.mean((X-np.mean(X))*(Y-np.mean(Y)))\n",
        "  # Print\n",
        "  if print_flag:\n",
        "    print(\"empirical correlation  = {}\".format(cov))\n",
        "    plt.figure()\n",
        "    plt.scatter(X,Y)\n",
        "    plt.grid()\n",
        "    plt.title('Y = X^2')\n",
        "    plt.xlabel('X values')\n",
        "    plt.ylabel('Y valuse')\n",
        "  return X, Y, cov\n",
        "\n",
        "\n",
        "N = 50\n",
        "X, Y, cov = dataGeneration(num_of_points = N)"
      ],
      "execution_count": 23,
      "outputs": [
        {
          "output_type": "stream",
          "name": "stdout",
          "text": [
            "empirical correlation  = 1.3137087751133587\n"
          ]
        },
        {
          "output_type": "display_data",
          "data": {
            "image/png": "[encoded data removed]",
            "text/plain": [
              "<Figure size 432x288 with 1 Axes>"
            ]
          },
          "metadata": {
            "needs_background": "light"
          }
        }
      ]
    },
    {
      "cell_type": "markdown",
      "metadata": {
        "id": "I40-IbOuTUQZ"
      },
      "source": [
        "# 3.  Compute the regression line "
      ]
    },
    {
      "cell_type": "code",
      "metadata": {
        "colab": {
          "base_uri": "https://localhost:8080/",
          "height": 330
        },
        "id": "g1ScpatVUsSc",
        "outputId": "db0f274d-376f-4b56-d59c-c5c861c2c601"
      },
      "source": [
        "def calcRegressionLine(x,y,num_of_points, print_flag = True):\n",
        "  '''\n",
        "  Compute Regression line from samples: y = f(x)\n",
        "  \n",
        "  input:  - x: sample\n",
        "          - y: f(x)\n",
        "          - num_of_points: number of samples \n",
        "          - print_flag: can be True of False, if True thr function will print \n",
        "            the regression line\n",
        "  output: - Y_hat: the regression line of Y according to samples X\n",
        "  '''\n",
        "  # Create X matrix in shape [N,2]:\n",
        "  # first colum contains only 1, secound colum contains X \n",
        "  temp = np.ones(N).reshape(N,1)\n",
        "  X_mat = np.concatenate([temp,X],axis=1)\n",
        "\n",
        "  # Calculate beta hat\n",
        "  # beta_inv_part = (X.T*X)^(-1)  \n",
        "  # bata_hat = beta_inv_part * X_mat.T * Y\n",
        "  # (where * is matrix multiplication)\n",
        "  beta_inv_part = np.linalg.inv(np.matmul(X_mat.T,X_mat))\n",
        "  beta_hat = np.matmul(beta_inv_part, np.matmul(X_mat.T, Y))\n",
        "  print(beta_hat)\n",
        "  # Compute Y_hat - the Regression line\n",
        "  Y_hat = np.matmul(X_mat,beta_hat)\n",
        "\n",
        "  if print_flag:\n",
        "    # Plot\n",
        "    plt.figure()\n",
        "    plt.scatter(X,Y)\n",
        "    plt.plot(X,Y_hat)\n",
        "    plt.grid()\n",
        "    plt.title('Real values & Regression Line')\n",
        "    plt.xlabel('X values')\n",
        "    plt.ylabel('Y & Y^hat')\n",
        "    plt.legend(['Y^hat: Regression Line', 'Y = X^2: Real values'])\n",
        "  return Y_hat\n",
        "\n",
        "\n",
        "Y_hat = calcRegressionLine(X,Y,N)\n"
      ],
      "execution_count": 24,
      "outputs": [
        {
          "output_type": "stream",
          "name": "stdout",
          "text": [
            "[[7.40018923]\n",
            " [0.17785043]]\n"
          ]
        },
        {
          "output_type": "display_data",
          "data": {
            "image/png": "[encoded data removed]",
            "text/plain": [
              "<Figure size 432x288 with 1 Axes>"
            ]
          },
          "metadata": {
            "needs_background": "light"
          }
        }
      ]
    },
    {
      "cell_type": "markdown",
      "metadata": {
        "id": "QDbPZfhJkgHu"
      },
      "source": [
        "The statistic(s) reconciles “contradiction” between (1) and (2)"
      ]
    },
    {
      "cell_type": "code",
      "metadata": {
        "colab": {
          "base_uri": "https://localhost:8080/",
          "height": 334
        },
        "id": "19GflgHykqpV",
        "outputId": "1387341e-13e4-4791-a175-a0f6c4c5bbb1"
      },
      "source": [
        "# Calculate the empirical correlation for different values of N\n",
        "cov_list = list([])\n",
        "print(type(cov_list))\n",
        "N_list = [5e1, 5e2, 5e3, 5e4, 5e5, 5e6, 5e7]\n",
        "for n in N_list:\n",
        "  _, _, cov = dataGeneration(num_of_points = int(n), print_flag = False)\n",
        "  cov_list.append(cov)\n",
        "\n",
        "# Plot\n",
        "plt.figure()\n",
        "plt.semilogx(N_list, cov_list)\n",
        "plt.grid()\n",
        "plt.title('Covarience values as N increase')\n",
        "plt.xlabel('N: number of sampling points')\n",
        "plt.ylabel('Covarience')"
      ],
      "execution_count": 25,
      "outputs": [
        {
          "output_type": "stream",
          "name": "stdout",
          "text": [
            "<class 'list'>\n"
          ]
        },
        {
          "output_type": "execute_result",
          "data": {
            "text/plain": [
              "Text(0, 0.5, 'Covarience')"
            ]
          },
          "metadata": {},
          "execution_count": 25
        },
        {
          "output_type": "display_data",
          "data": {
            "image/png": "[encoded data removed]",
            "text/plain": [
              "<Figure size 432x288 with 1 Axes>"
            ]
          },
          "metadata": {
            "needs_background": "light"
          }
        }
      ]
    }
  ]
}